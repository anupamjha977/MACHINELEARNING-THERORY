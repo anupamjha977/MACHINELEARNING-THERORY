{
 "cells": [
  {
   "cell_type": "markdown",
   "id": "fd1c43fe",
   "metadata": {},
   "source": [
    "1 What exactly is a feature? Give an example to illustrate your point.\n",
    "\n",
    "A: In machine learning, a feature refers to a measurable aspect or property of a phenomenon being observed. For example, in a dataset of houses and their sale prices, features could include the number of bedrooms, the square footage of the house, the year it was built, etc. These features are used as inputs to a machine learning algorithm to make predictions or classifications.\n",
    "\n",
    "Here's an example Python code snippet that defines a simple dataset of houses and their "
   ]
  },
  {
   "cell_type": "code",
   "execution_count": 1,
   "id": "046893fe",
   "metadata": {},
   "outputs": [
    {
     "name": "stdout",
     "output_type": "stream",
     "text": [
      "   num_bedrooms  sq_footage  year_built  sale_price\n",
      "0             2        1000        1970      150000\n",
      "1             3        1500        1990      250000\n",
      "2             4        2000        2005      350000\n",
      "3             2        1200        1985      200000\n",
      "4             3        1800        2010      300000\n"
     ]
    }
   ],
   "source": [
    "import pandas as pd\n",
    "\n",
    "# define a dictionary of features for each house\n",
    "houses = {\n",
    "    'num_bedrooms': [2, 3, 4, 2, 3],\n",
    "    'sq_footage': [1000, 1500, 2000, 1200, 1800],\n",
    "    'year_built': [1970, 1990, 2005, 1985, 2010],\n",
    "    'sale_price': [150000, 250000, 350000, 200000, 300000]\n",
    "}\n",
    "\n",
    "# create a Pandas DataFrame from the dictionary\n",
    "df = pd.DataFrame(houses)\n",
    "\n",
    "# display the DataFrame\n",
    "print(df)\n"
   ]
  },
  {
   "cell_type": "markdown",
   "id": "84f5b159",
   "metadata": {},
   "source": [
    "2.What are the various circumstances in which feature construction is required?\n",
    "Answer:\n",
    "Feature construction, also known as feature engineering, is the process of creating new features from the existing ones to improve the performance of machine learning models. It is required in the following circumstances:\n",
    "\n",
    "When the existing features are insufficient: Sometimes, the existing features in a dataset may not be sufficient to solve a problem. In such cases, new features need to be created to help the machine learning model learn the underlying patterns in the data.\n",
    "\n",
    "To improve model accuracy: Feature engineering can help improve the accuracy of machine learning models. By creating new features that are more relevant to the problem at hand, the model can learn more efficiently and make better predictions.\n",
    "\n",
    "To reduce overfitting: Overfitting occurs when a model becomes too complex and learns the training data too well, leading to poor performance on new data. Feature engineering can help prevent overfitting by creating new features that capture more general patterns in the data.\n",
    "\n",
    "To improve interpretability: Feature engineering can help improve the interpretability of machine learning models. By creating features that are more interpretable, we can gain a better understanding of how the model is making predictions."
   ]
  },
  {
   "cell_type": "code",
   "execution_count": 2,
   "id": "d786fcca",
   "metadata": {},
   "outputs": [
    {
     "name": "stdout",
     "output_type": "stream",
     "text": [
      "Original shape: (150, 4)\n",
      "Transformed shape: (150, 2)\n"
     ]
    }
   ],
   "source": [
    "from sklearn.datasets import load_iris\n",
    "from sklearn.decomposition import PCA\n",
    "\n",
    "# load the iris dataset\n",
    "iris = load_iris()\n",
    "\n",
    "# extract the features and target variable\n",
    "X = iris.data\n",
    "y = iris.target\n",
    "\n",
    "# perform PCA to construct new features\n",
    "pca = PCA(n_components=2)\n",
    "X_pca = pca.fit_transform(X)\n",
    "\n",
    "# print the shape of the original and transformed feature matrices\n",
    "print(\"Original shape:\", X.shape)\n",
    "print(\"Transformed shape:\", X_pca.shape)\n"
   ]
  },
  {
   "cell_type": "markdown",
   "id": "aa69818f",
   "metadata": {},
   "source": [
    "3.Describe how nominal variables are encoded.\n",
    "Nominal variables are categorical variables that do not have an inherent order or ranking. One common method for encoding nominal variables is one-hot encoding, where a binary variable is created for each category in the nominal variable. This method results in a sparse matrix where most values are 0, except for the binary variable corresponding to the category that is present in the particular instance.\n",
    "\n",
    "For example, consider a nominal variable \"color\" with categories \"red\", \"blue\", and \"green\". One-hot encoding would create three binary variables \"color_red\", \"color_blue\", and \"color_green\". If an instance has a value of \"red\" for the \"color\" variable, the corresponding binary variable \"color_red\" would be set to 1, and the other two binary variables would be 0.\n",
    "\n",
    "Python code to encode nominal variables using one-hot encoding in scikit-learn:"
   ]
  },
  {
   "cell_type": "code",
   "execution_count": 4,
   "id": "a44ac465",
   "metadata": {},
   "outputs": [
    {
     "name": "stdout",
     "output_type": "stream",
     "text": [
      "[[0. 0. 1.]\n",
      " [1. 0. 0.]\n",
      " [0. 1. 0.]\n",
      " [0. 0. 1.]\n",
      " [0. 1. 0.]]\n"
     ]
    }
   ],
   "source": [
    "from sklearn.preprocessing import OneHotEncoder\n",
    "import numpy as np\n",
    "\n",
    "# create example nominal data\n",
    "nominal_data = np.array([[\"red\"], [\"blue\"], [\"green\"], [\"red\"], [\"green\"]])\n",
    "\n",
    "# create one-hot encoder\n",
    "encoder = OneHotEncoder()\n",
    "encoded_data = encoder.fit_transform(nominal_data)\n",
    "\n",
    "# print encoded data\n",
    "print(encoded_data.toarray())\n"
   ]
  },
  {
   "cell_type": "markdown",
   "id": "935a6dcf",
   "metadata": {},
   "source": [
    "4.Describe how numeric features are converted to categorical features.\n",
    "Answer:\n",
    "Numeric features can be converted to categorical features by binning or discretization. Binning involves dividing the numeric values into discrete intervals or bins, and then assigning each value to the corresponding bin. Discretization involves creating a set of thresholds and then mapping each value to the appropriate threshold, effectively converting the continuous numeric variable into a set of categories.\n",
    "\n",
    "Python code to convert numeric features to categorical features using binning:"
   ]
  },
  {
   "cell_type": "code",
   "execution_count": 5,
   "id": "4d5a0664",
   "metadata": {},
   "outputs": [
    {
     "name": "stdout",
     "output_type": "stream",
     "text": [
      "      CRIM    ZN  INDUS  CHAS    NOX     RM    AGE     DIS  RAD    TAX  \\\n",
      "0  0.00632  18.0   2.31   0.0  0.538  6.575   65.2  4.0900  1.0  296.0   \n",
      "1  0.02731   0.0   7.07   0.0  0.469  6.421   78.9  4.9671  2.0  242.0   \n",
      "2  0.02729   0.0   7.07   0.0  0.469  7.185   61.1  4.9671  2.0  242.0   \n",
      "3  0.03237   0.0   2.18   0.0  0.458  6.998   45.8  6.0622  3.0  222.0   \n",
      "4  0.06905   0.0   2.18   0.0  0.458  7.147   54.2  6.0622  3.0  222.0   \n",
      "5  0.02985   0.0   2.18   0.0  0.458  6.430   58.7  6.0622  3.0  222.0   \n",
      "6  0.08829  12.5   7.87   0.0  0.524  6.012   66.6  5.5605  5.0  311.0   \n",
      "7  0.14455  12.5   7.87   0.0  0.524  6.172   96.1  5.9505  5.0  311.0   \n",
      "8  0.21124  12.5   7.87   0.0  0.524  5.631  100.0  6.0821  5.0  311.0   \n",
      "9  0.17004  12.5   7.87   0.0  0.524  6.004   85.9  6.5921  5.0  311.0   \n",
      "\n",
      "   PTRATIO       B  LSTAT      AGE_binned  \n",
      "0     15.3  396.90   4.98  (61.16, 80.58]  \n",
      "1     17.8  396.90   9.14  (61.16, 80.58]  \n",
      "2     17.8  392.83   4.03  (41.74, 61.16]  \n",
      "3     18.7  394.63   2.94  (41.74, 61.16]  \n",
      "4     18.7  396.90   5.33  (41.74, 61.16]  \n",
      "5     18.7  394.12   5.21  (41.74, 61.16]  \n",
      "6     15.2  395.60  12.43  (61.16, 80.58]  \n",
      "7     15.2  396.90  19.15  (80.58, 100.0]  \n",
      "8     15.2  386.63  29.93  (80.58, 100.0]  \n",
      "9     15.2  386.71  17.10  (80.58, 100.0]  \n"
     ]
    }
   ],
   "source": [
    "from sklearn.datasets import load_boston\n",
    "import pandas as pd\n",
    "\n",
    "# load the Boston Housing dataset\n",
    "boston = load_boston()\n",
    "\n",
    "# create a pandas dataframe from the dataset\n",
    "df = pd.DataFrame(boston.data, columns=boston.feature_names)\n",
    "\n",
    "# bin the 'AGE' feature into 5 bins\n",
    "df['AGE_binned'] = pd.cut(df['AGE'], bins=5)\n",
    "\n",
    "# display the first 10 rows of the dataframe\n",
    "print(df.head(10))\n",
    "\n"
   ]
  },
  {
   "cell_type": "markdown",
   "id": "2069644c",
   "metadata": {},
   "source": [
    "5.Describe the feature selection wrapper approach. State the advantages and disadvantages of this approach?\n",
    "\n",
    "Answer:\n",
    "\n",
    "The feature selection wrapper approach involves using a model to select the best set of features for a given task by repeatedly training and evaluating the model on different subsets of features. The general procedure involves the following steps:\n",
    "\n",
    "Select an initial set of features\n",
    "Train a model using only these features\n",
    "Evaluate the performance of the model using a validation set\n",
    "Select a subset of the features (using some criterion, e.g. the highest importance scores) and repeat from step 2 until some stopping criterion is met.\n",
    "Advantages:\n",
    "\n",
    "It takes into account the interaction between features, which can result in more accurate models.\n",
    "It can improve the efficiency of models by reducing the number of features used.\n",
    "Disadvantages:\n",
    "\n",
    "It can be computationally expensive, especially for large datasets or models.\n",
    "It can be prone to overfitting if the stopping criterion is not well defined or if the model is too complex.\n",
    "Python code example using the wrapper method for feature selection with Random Forest Classifier"
   ]
  },
  {
   "cell_type": "code",
   "execution_count": 6,
   "id": "296202d3",
   "metadata": {},
   "outputs": [
    {
     "name": "stdout",
     "output_type": "stream",
     "text": [
      "[False False False False False False False False False False  True False\n",
      " False  True False False False False False False  True  True False False\n",
      " False False  True False  True False False False False False False False\n",
      "  True False False False False False  True  True False False False False\n",
      " False False False False False False False False False False False False\n",
      " False  True False False]\n",
      "[55 38  6 30 28 15 31 43 49 29  1 35 23  1 36 42 50 33 16  4  1  1 34 44\n",
      " 47 27  1  9  1 12  2 51 54  5 11 24  1 20  7 53 45 32  1  1 13 19 18 46\n",
      " 48 39 21 10 25 17  8 40 52 41 14 26  3  1 22 37]\n"
     ]
    }
   ],
   "source": [
    "from sklearn.datasets import load_digits\n",
    "from sklearn.ensemble import RandomForestClassifier\n",
    "from sklearn.feature_selection import RFE\n",
    "from sklearn.model_selection import train_test_split\n",
    "\n",
    "# load dataset\n",
    "digits = load_digits()\n",
    "X = digits.data\n",
    "y = digits.target\n",
    "\n",
    "# split into training and testing sets\n",
    "X_train, X_test, y_train, y_test = train_test_split(X, y, test_size=0.2, random_state=42)\n",
    "\n",
    "# define the classifier\n",
    "clf = RandomForestClassifier(n_estimators=100)\n",
    "\n",
    "# use RFE to select the best features\n",
    "selector = RFE(clf, n_features_to_select=10, step=1)\n",
    "selector.fit(X_train, y_train)\n",
    "\n",
    "# print the best features\n",
    "print(selector.support_)\n",
    "print(selector.ranking_)\n"
   ]
  },
  {
   "cell_type": "markdown",
   "id": "bde42cc9",
   "metadata": {},
   "source": [
    "6.When is a feature considered irrelevant? What can be said to quantify it?\n",
    "Answer:\n",
    "\n",
    "A feature is considered irrelevant when it does not contribute to the target variable or has no significant impact on the accuracy of the predictive model. Irrelevant features add unnecessary complexity to the model, which can lead to overfitting and reduced model performance.\n",
    "\n",
    "The feature importance score is used to quantify the relevance of each feature. This score indicates the extent to which a feature contributes to the model's accuracy. Higher importance scores suggest that the feature is more relevant and contributes more to the model's predictive power.\n",
    "\n",
    "Python Code:\n",
    "\n",
    "Here's an example of how to calculate feature importance scores using the random forest classifier in scikit-learn:"
   ]
  },
  {
   "cell_type": "code",
   "execution_count": 8,
   "id": "26b081a5",
   "metadata": {},
   "outputs": [
    {
     "name": "stdout",
     "output_type": "stream",
     "text": [
      "Feature 0: importance score = 0.0598\n",
      "Feature 1: importance score = 0.0125\n",
      "Feature 2: importance score = 0.0552\n",
      "Feature 3: importance score = 0.0401\n",
      "Feature 4: importance score = 0.0059\n",
      "Feature 5: importance score = 0.0152\n",
      "Feature 6: importance score = 0.0452\n",
      "Feature 7: importance score = 0.0964\n",
      "Feature 8: importance score = 0.0035\n",
      "Feature 9: importance score = 0.0058\n",
      "Feature 10: importance score = 0.0175\n",
      "Feature 11: importance score = 0.0059\n",
      "Feature 12: importance score = 0.0050\n",
      "Feature 13: importance score = 0.0341\n",
      "Feature 14: importance score = 0.0038\n",
      "Feature 15: importance score = 0.0033\n",
      "Feature 16: importance score = 0.0087\n",
      "Feature 17: importance score = 0.0042\n",
      "Feature 18: importance score = 0.0038\n",
      "Feature 19: importance score = 0.0062\n",
      "Feature 20: importance score = 0.1006\n",
      "Feature 21: importance score = 0.0193\n",
      "Feature 22: importance score = 0.1008\n",
      "Feature 23: importance score = 0.1049\n",
      "Feature 24: importance score = 0.0125\n",
      "Feature 25: importance score = 0.0099\n",
      "Feature 26: importance score = 0.0433\n",
      "Feature 27: importance score = 0.1599\n",
      "Feature 28: importance score = 0.0106\n",
      "Feature 29: importance score = 0.0060\n",
      "Important features: [20, 22, 23, 27]\n",
      "Unimportant features: [0, 1, 2, 3, 4, 5, 6, 7, 8, 9, 10, 11, 12, 13, 14, 15, 16, 17, 18, 19, 21, 24, 25, 26, 28, 29]\n"
     ]
    }
   ],
   "source": [
    "from sklearn.ensemble import RandomForestClassifier\n",
    "from sklearn.datasets import load_breast_cancer\n",
    "\n",
    "# Load the breast cancer dataset\n",
    "data = load_breast_cancer()\n",
    "X = data.data\n",
    "y = data.target\n",
    "\n",
    "# Train the random forest classifier\n",
    "clf = RandomForestClassifier()\n",
    "clf.fit(X, y)\n",
    "\n",
    "# Print the feature importances\n",
    "importances = clf.feature_importances_\n",
    "for i, importance in enumerate(importances):\n",
    "    print(f\"Feature {i}: importance score = {importance:.4f}\")\n",
    "\n",
    "# Identify the most important features\n",
    "threshold = 0.1  # Example threshold value\n",
    "important_indices = [i for i, importance in enumerate(importances) if importance >= threshold]\n",
    "print(\"Important features:\", important_indices)\n",
    "print(\"Unimportant features:\", [i for i in range(X.shape[1]) if i not in important_indices])\n"
   ]
  },
  {
   "cell_type": "markdown",
   "id": "a5fdbe7f",
   "metadata": {},
   "source": [
    "8.When is a function considered redundant? What criteria are used to identify features that could be redundant?\n",
    "Answer:\n",
    "A feature is considered redundant if it provides the same information as another feature or set of features. A function is considered redundant if it can be expressed as a linear combination of other functions. In general, the criteria used to identify redundant features are correlation and mutual information. Features with high correlation or mutual information are likely to be redundant.\n",
    "\n",
    "Correlation can be measured using Pearson's correlation coefficient or Spearman's rank correlation coefficient. Pearson's correlation coefficient measures the linear relationship between two variables, while Spearman's rank correlation coefficient measures the monotonic relationship between two variables. In both cases, a coefficient close to 1 indicates a strong positive correlation, while a coefficient close to -1 indicates a strong negative correlation.\n",
    "\n",
    "Mutual information is a measure of the amount of information shared by two variables. It is commonly used in feature selection to measure the relevance of a feature to a target variable. Features with high mutual information are likely to be informative and useful, while features with low mutual information are likely to be redundant.\n",
    "\n",
    "Python code to identify redundant features using correlation:"
   ]
  },
  {
   "cell_type": "code",
   "execution_count": 9,
   "id": "8527bc94",
   "metadata": {},
   "outputs": [
    {
     "name": "stdout",
     "output_type": "stream",
     "text": [
      "Selected features:\n",
      "1. mean radius\n",
      "2. mean perimeter\n",
      "3. mean area\n",
      "4. mean concavity\n",
      "5. mean concave points\n",
      "6. worst radius\n",
      "7. worst perimeter\n",
      "8. worst area\n",
      "9. worst concavity\n",
      "10. worst concave points\n",
      "Ignored features:\n",
      "1. mean texture\n",
      "2. mean smoothness\n",
      "3. mean compactness\n",
      "4. mean symmetry\n",
      "5. mean fractal dimension\n",
      "6. radius error\n",
      "7. texture error\n",
      "8. perimeter error\n",
      "9. area error\n",
      "10. smoothness error\n",
      "11. compactness error\n",
      "12. concavity error\n",
      "13. concave points error\n",
      "14. symmetry error\n",
      "15. fractal dimension error\n",
      "16. worst texture\n",
      "17. worst smoothness\n",
      "18. worst compactness\n",
      "19. worst symmetry\n",
      "20. worst fractal dimension\n"
     ]
    }
   ],
   "source": [
    "from sklearn.datasets import load_breast_cancer\n",
    "from sklearn.feature_selection import SelectKBest, f_classif\n",
    "\n",
    "# load breast cancer dataset\n",
    "data = load_breast_cancer()\n",
    "X = data.data\n",
    "y = data.target\n",
    "\n",
    "# apply feature selection using ANOVA F-value as score function\n",
    "selector = SelectKBest(f_classif, k=10)\n",
    "selector.fit(X, y)\n",
    "\n",
    "# print selected features and their scores\n",
    "print(\"Selected features:\")\n",
    "for i, feature in enumerate(data.feature_names[selector.get_support()]):\n",
    "    print(f\"{i+1}. {feature}\")\n",
    "    \n",
    "print(\"Ignored features:\")\n",
    "for i, feature in enumerate(data.feature_names[~selector.get_support()]):\n",
    "    print(f\"{i+1}. {feature}\")\n"
   ]
  },
  {
   "cell_type": "markdown",
   "id": "766e5d58",
   "metadata": {},
   "source": [
    "This code loads the breast cancer dataset from scikit-learn, applies feature selection using ANOVA F-value as the score function, and prints the names of the selected and ignored features. The SelectKBest function is used to select the top k features based on the score function, which in this case is f_classif for ANOVA F-value. The get_support method is used to obtain a Boolean mask of the selected features, and the ~ operator is used to obtain the mask of ignored features. The feature names are obtained from the feature_names attribute of the dataset object."
   ]
  },
  {
   "cell_type": "markdown",
   "id": "ca37d2d1",
   "metadata": {},
   "source": [
    "9.State difference between Euclidean and Manhattan distances?\n",
    "Euclidean distance and Manhattan distance are two common distance metrics used in machine learning and data analysis. The main difference between them is the way they measure distance between two points in a feature space.\n",
    "\n",
    "Euclidean distance: It is the straight-line distance between two points in a feature space. It is calculated as the square root of the sum of the squared differences between the corresponding elements of the two points. It is the most commonly used distance metric and is suitable for continuous variables.\n",
    "\n",
    "Manhattan distance: It is also called the taxicab distance or L1 norm distance. It is the sum of the absolute differences between the corresponding elements of the two points. It is suitable for both continuous and categorical variables."
   ]
  },
  {
   "cell_type": "code",
   "execution_count": 10,
   "id": "06ff38a1",
   "metadata": {},
   "outputs": [
    {
     "name": "stdout",
     "output_type": "stream",
     "text": [
      "Euclidean distance: 5.0\n",
      "Manhattan distance: 7\n"
     ]
    }
   ],
   "source": [
    "import numpy as np\n",
    "\n",
    "# define two points in a 2D feature space\n",
    "point1 = np.array([1, 2])\n",
    "point2 = np.array([4, 6])\n",
    "\n",
    "# calculate Euclidean distance\n",
    "euclidean_dist = np.linalg.norm(point1 - point2)\n",
    "print(\"Euclidean distance:\", euclidean_dist)\n",
    "\n",
    "# calculate Manhattan distance\n",
    "manhattan_dist = np.sum(np.abs(point1 - point2))\n",
    "print(\"Manhattan distance:\", manhattan_dist)\n"
   ]
  },
  {
   "cell_type": "markdown",
   "id": "bc465ddf",
   "metadata": {},
   "source": [
    "10.Distinguish between feature transformation and feature selection.\n",
    "Answer:\n",
    "\n",
    "Feature transformation and feature selection are two important techniques used in machine learning to preprocess and prepare data for modeling.\n",
    "\n",
    "Feature transformation involves changing the scale or distribution of the feature data. This can be done in several ways, such as scaling the data to a common range, normalizing the data to have zero mean and unit variance, or performing logarithmic or power transformations to change the data distribution. Feature transformation aims to improve the performance of machine learning algorithms by making the data more suitable for modeling.\n",
    "\n",
    "On the other hand, feature selection involves selecting a subset of the original features to be used in the modeling process. This can be done using a variety of techniques, such as statistical tests, correlation analysis, or machine learning algorithms themselves. Feature selection aims to improve the performance of machine learning algorithms by reducing the dimensionality of the data and removing irrelevant or redundant features.\n",
    "\n",
    "Python code:\n",
    "\n",
    "Here's an example of feature transformation and feature selection using scikit-learn:"
   ]
  },
  {
   "cell_type": "code",
   "execution_count": 11,
   "id": "f2bf776b",
   "metadata": {},
   "outputs": [
    {
     "name": "stdout",
     "output_type": "stream",
     "text": [
      "Accuracy: 1.0\n"
     ]
    }
   ],
   "source": [
    "from sklearn.datasets import load_iris\n",
    "from sklearn.preprocessing import StandardScaler\n",
    "from sklearn.feature_selection import SelectKBest, f_classif\n",
    "from sklearn.model_selection import train_test_split\n",
    "from sklearn.linear_model import LogisticRegression\n",
    "\n",
    "# load the iris dataset\n",
    "iris = load_iris()\n",
    "\n",
    "# split the dataset into training and testing sets\n",
    "X_train, X_test, y_train, y_test = train_test_split(iris.data, iris.target, test_size=0.3, random_state=42)\n",
    "\n",
    "# apply feature transformation by scaling the data\n",
    "scaler = StandardScaler()\n",
    "X_train = scaler.fit_transform(X_train)\n",
    "X_test = scaler.transform(X_test)\n",
    "\n",
    "# apply feature selection by selecting the top 2 features based on ANOVA F-test\n",
    "selector = SelectKBest(f_classif, k=2)\n",
    "X_train = selector.fit_transform(X_train, y_train)\n",
    "X_test = selector.transform(X_test)\n",
    "\n",
    "# train a logistic regression model on the selected features\n",
    "clf = LogisticRegression()\n",
    "clf.fit(X_train, y_train)\n",
    "\n",
    "# evaluate the model on the testing set\n",
    "accuracy = clf.score(X_test, y_test)\n",
    "print(\"Accuracy:\", accuracy)\n"
   ]
  },
  {
   "cell_type": "markdown",
   "id": "6d1bc15e",
   "metadata": {},
   "source": [
    "in this example, the iris dataset is first split into training and testing sets. Then, feature transformation is applied by scaling the data using the StandardScaler transformer. Feature selection is then applied by selecting the top 2 features based on ANOVA F-test using the SelectKBest selector. Finally, a logistic regression model is trained on the selected features and evaluated on the testing set."
   ]
  },
  {
   "cell_type": "markdown",
   "id": "6a7f7439",
   "metadata": {},
   "source": [
    "11. Make brief notes on any two of the following:\n",
    "\n",
    "          1.SVD (Standard Variable Diameter Diameter)\n",
    "\n",
    "          2. Collection of features using a hybrid approach\n",
    "\n",
    "          3. The width of the silhouette\n",
    "\n",
    "          4. Receiver operating characteristic curve"
   ]
  },
  {
   "cell_type": "markdown",
   "id": "f75ac914",
   "metadata": {},
   "source": [
    "SVD (Standard Variable Diameter Diameter):\n",
    "SVD is a dimensionality reduction technique that is used to find patterns in high-dimensional data. It is based on the Singular Value Decomposition (SVD) of a matrix, which allows the matrix to be represented in terms of its singular values and singular vectors. SVD is particularly useful when dealing with large datasets that have many features, as it can reduce the number of features while preserving the underlying structure of the data.\n",
    "\n",
    "Collection of features using a hybrid approach:\n",
    "A hybrid approach to feature selection combines both filter and wrapper methods. In this approach, a subset of features is first selected using a filter method, and then a wrapper method is used to further refine the subset of features. The filter method is used to eliminate irrelevant features based on statistical tests, while the wrapper method is used to evaluate subsets of features using a machine learning algorithm.\n",
    "\n",
    "Here's an example of how to use the hybrid approach for feature selection in Python using scikit-learn:"
   ]
  },
  {
   "cell_type": "code",
   "execution_count": 19,
   "id": "2c4d735b",
   "metadata": {},
   "outputs": [
    {
     "name": "stdout",
     "output_type": "stream",
     "text": [
      "Selected features: ['petal length (cm)' 'petal width (cm)']\n"
     ]
    }
   ],
   "source": [
    "import numpy as np\n",
    "from sklearn.datasets import load_iris\n",
    "from sklearn.feature_selection import SelectKBest, f_classif\n",
    "from sklearn.linear_model import LogisticRegression\n",
    "from sklearn.pipeline import Pipeline\n",
    "\n",
    "# Load the iris dataset\n",
    "iris = load_iris()\n",
    "\n",
    "# Create a pipeline with a feature selection step and a logistic regression step\n",
    "pipeline = Pipeline([\n",
    "  ('feature_selection', SelectKBest(f_classif, k=2)),\n",
    "  ('classification', LogisticRegression())\n",
    "])\n",
    "\n",
    "# Fit the pipeline to the data\n",
    "pipeline.fit(iris.data, iris.target)\n",
    "\n",
    "# Print the selected features\n",
    "selected_indices = np.where(pipeline.named_steps['feature_selection'].get_support())[0]\n",
    "selected_features = np.array(iris.feature_names)[selected_indices]\n",
    "print('Selected features:', selected_features)\n"
   ]
  },
  {
   "cell_type": "markdown",
   "id": "105f0d4f",
   "metadata": {},
   "source": [
    "The width of the silhouette: The silhouette width is a metric used to measure how similar an object is to its own cluster (cohesion) compared to other clusters (separation). It takes values between -1 and 1, where higher values indicate better cluster assignments. A score of 1 indicates a very good clustering, while a score of -1 indicates that the object is probably assigned to the wrong cluster. The width of the silhouette can be calculated using the silhouette_score function from the sklearn.metrics module.\n",
    "\n",
    "Receiver Operating Characteristic Curve (ROC Curve): A ROC curve is a graphical representation of the performance of a binary classification model. It is created by plotting the true positive rate (sensitivity) against the false positive rate (1-specificity) at various thresholds. The area under the ROC curve (AUC) is a measure of the model's accuracy, with values closer to 1 indicating better performance. The ROC curve can be generated using the roc_curve function from the sklearn.metrics module."
   ]
  },
  {
   "cell_type": "code",
   "execution_count": 20,
   "id": "73019e0b",
   "metadata": {},
   "outputs": [
    {
     "name": "stdout",
     "output_type": "stream",
     "text": [
      "Requirement already satisfied: matplotlib in c:\\programdata\\anaconda3\\lib\\site-packages (3.4.3)\n",
      "Requirement already satisfied: numpy>=1.16 in c:\\users\\lenovo\\appdata\\roaming\\python\\python39\\site-packages (from matplotlib) (1.21.6)\n",
      "Requirement already satisfied: pillow>=6.2.0 in c:\\programdata\\anaconda3\\lib\\site-packages (from matplotlib) (8.4.0)\n",
      "Requirement already satisfied: pyparsing>=2.2.1 in c:\\programdata\\anaconda3\\lib\\site-packages (from matplotlib) (3.0.4)\n",
      "Requirement already satisfied: cycler>=0.10 in c:\\programdata\\anaconda3\\lib\\site-packages (from matplotlib) (0.10.0)\n",
      "Requirement already satisfied: python-dateutil>=2.7 in c:\\programdata\\anaconda3\\lib\\site-packages (from matplotlib) (2.8.2)\n",
      "Requirement already satisfied: kiwisolver>=1.0.1 in c:\\programdata\\anaconda3\\lib\\site-packages (from matplotlib) (1.3.1)\n",
      "Requirement already satisfied: six in c:\\programdata\\anaconda3\\lib\\site-packages (from cycler>=0.10->matplotlib) (1.16.0)\n"
     ]
    },
    {
     "name": "stderr",
     "output_type": "stream",
     "text": [
      "WARNING: Ignoring invalid distribution -umpy (c:\\programdata\\anaconda3\\lib\\site-packages)\n",
      "WARNING: Ignoring invalid distribution - (c:\\programdata\\anaconda3\\lib\\site-packages)\n",
      "WARNING: Ignoring invalid distribution -umpy (c:\\programdata\\anaconda3\\lib\\site-packages)\n",
      "WARNING: Ignoring invalid distribution - (c:\\programdata\\anaconda3\\lib\\site-packages)\n",
      "WARNING: Ignoring invalid distribution -umpy (c:\\programdata\\anaconda3\\lib\\site-packages)\n",
      "WARNING: Ignoring invalid distribution - (c:\\programdata\\anaconda3\\lib\\site-packages)\n",
      "WARNING: Ignoring invalid distribution -umpy (c:\\programdata\\anaconda3\\lib\\site-packages)\n",
      "WARNING: Ignoring invalid distribution - (c:\\programdata\\anaconda3\\lib\\site-packages)\n",
      "WARNING: Ignoring invalid distribution -umpy (c:\\programdata\\anaconda3\\lib\\site-packages)\n",
      "WARNING: Ignoring invalid distribution - (c:\\programdata\\anaconda3\\lib\\site-packages)\n",
      "WARNING: Ignoring invalid distribution -umpy (c:\\programdata\\anaconda3\\lib\\site-packages)\n",
      "WARNING: Ignoring invalid distribution - (c:\\programdata\\anaconda3\\lib\\site-packages)\n"
     ]
    },
    {
     "name": "stdout",
     "output_type": "stream",
     "text": [
      "Silhouette score: 0.5528190123564095\n",
      "AUC score: 0.4375\n"
     ]
    },
    {
     "data": {
      "image/png": "[encoded data removed]",
      "text/plain": [
       "<Figure size 432x288 with 1 Axes>"
      ]
     },
     "metadata": {
      "needs_background": "light"
     },
     "output_type": "display_data"
    }
   ],
   "source": [
    "!pip install matplotlib\n",
    "\n",
    "from sklearn.datasets import load_iris\n",
    "from sklearn.cluster import KMeans\n",
    "from sklearn.metrics import silhouette_score, roc_curve, auc\n",
    "from sklearn.model_selection import train_test_split\n",
    "from sklearn.linear_model import LogisticRegression\n",
    "import matplotlib.pyplot as plt\n",
    "\n",
    "# load the iris dataset\n",
    "iris = load_iris()\n",
    "X, y = iris.data, iris.target\n",
    "\n",
    "# calculate the silhouette score for a k-means clustering with 3 clusters\n",
    "kmeans = KMeans(n_clusters=3, random_state=42)\n",
    "labels = kmeans.fit_predict(X)\n",
    "silhouette_avg = silhouette_score(X, labels)\n",
    "print(f\"Silhouette score: {silhouette_avg}\")\n",
    "\n",
    "# plot the ROC curve for a logistic regression model\n",
    "X_train, X_test, y_train, y_test = train_test_split(X, y, test_size=0.3, random_state=42)\n",
    "lr = LogisticRegression(random_state=42)\n",
    "lr.fit(X_train, y_train)\n",
    "y_prob = lr.predict_proba(X_test)\n",
    "fpr, tpr, thresholds = roc_curve(y_test, y_prob[:, 1], pos_label=2)\n",
    "roc_auc = auc(fpr, tpr)\n",
    "print(f\"AUC score: {roc_auc}\")\n",
    "\n",
    "plt.plot(fpr, tpr, lw=2, label='ROC curve (AUC = %0.2f)' % roc_auc)\n",
    "plt.plot([0, 1], [0, 1], '--', color='gray', label='Random guessing')\n",
    "plt.xlim([-0.05, 1.05])\n",
    "plt.ylim([-0.05, 1.05])\n",
    "plt.xlabel('False Positive Rate')\n",
    "plt.ylabel('True Positive Rate')\n",
    "plt.title('Receiver operating characteristic (ROC) curve')\n",
    "plt.legend(loc=\"lower right\")\n",
    "plt.show()\n"
   ]
  },
  {
   "cell_type": "code",
   "execution_count": null,
   "id": "29067efe",
   "metadata": {},
   "outputs": [],
   "source": []
  }
 ],
 "metadata": {
  "kernelspec": {
   "display_name": "Python 3 (ipykernel)",
   "language": "python",
   "name": "python3"
  },
  "language_info": {
   "codemirror_mode": {
    "name": "ipython",
    "version": 3
   },
   "file_extension": ".py",
   "mimetype": "text/x-python",
   "name": "python",
   "nbconvert_exporter": "python",
   "pygments_lexer": "ipython3",
   "version": "3.9.7"
  }
 },
 "nbformat": 4,
 "nbformat_minor": 5
}
