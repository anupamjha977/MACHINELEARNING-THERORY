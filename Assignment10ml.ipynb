{
 "cells": [
  {
   "cell_type": "markdown",
   "id": "d27b6c73",
   "metadata": {},
   "source": [
    "1.Define the Bayesian interpretation of probability.\n",
    "\n",
    " The Bayesian interpretation of probability is a statistical interpretation that considers probability as a measure of uncertainty. It is based on Bayes' theorem, which provides a way to update or revise the probability of an event based on new evidence or information. According to this interpretation, probability is a subjective measure that depends on the available information and the beliefs of the observer."
   ]
  },
  {
   "cell_type": "markdown",
   "id": "af16475e",
   "metadata": {},
   "source": [
    "Bayes' Theorem states that:\n",
    "\n",
    "P(A|B) = P(B|A) * P(A) / P(B)\n",
    "\n",
    "where P(A|B) is the probability of A given B, P(B|A) is the probability of B given A, P(A) is the prior probability of A, and P(B) is the prior probability of B.\n",
    "\n",
    "To understand this theorem, let's consider an example. Suppose we have a medical test that can detect a disease with a certain accuracy rate. The test result can be positive or negative. Let's assume the prior probability of a patient having the disease is 0.01 or 1%. The accuracy rate of the test is 95% (i.e., the probability of a positive test result given that the patient has the disease is 0.95, and the probability of a negative test result given that the patient does not have the disease is 0.95). We want to find the probability that a patient has the disease given that the test result is positive.\n",
    "\n",
    "Let A be the event that a patient has the disease, and B be the event that the test result is positive. Then, we can calculate the probability of A given B using Bayes' Theorem:\n",
    "\n",
    "P(A|B) = P(B|A) * P(A) / P(B)\n",
    "\n",
    "P(A) = 0.01 (prior probability of having the disease)\n",
    "P(B|A) = 0.95 (probability of a positive test result given the patient has the disease)\n",
    "P(B|not A) = 0.05 (probability of a positive test result given the patient does not have the disease)\n",
    "P(B) = P(B|A) * P(A) + P(B|not A) * P(not A) = 0.95 * 0.01 + 0.05 * 0.99 = 0.0595 (using the law of total probability)\n",
    "\n",
    "P(A|B) = 0.95 * 0.01 / 0.0595 = 0.159 (rounded to three decimal places)\n",
    "\n",
    "Therefore, the probability that a patient has the disease given that the test result is positive is about 0.159 or 15.9%.\n",
    "\n",
    "Python code for the above example:"
   ]
  },
  {
   "cell_type": "code",
   "execution_count": 1,
   "id": "35d001f1",
   "metadata": {},
   "outputs": [
    {
     "name": "stdout",
     "output_type": "stream",
     "text": [
      "Probability of having the disease given a positive test result: 0.16101694915254236\n"
     ]
    }
   ],
   "source": [
    "# prior probability of having the disease\n",
    "P_A = 0.01\n",
    "\n",
    "# probability of a positive test result given the patient has the disease\n",
    "P_B_given_A = 0.95\n",
    "\n",
    "# probability of a positive test result given the patient does not have the disease\n",
    "P_B_given_not_A = 0.05\n",
    "\n",
    "# probability of a positive test result\n",
    "P_B = P_B_given_A * P_A + P_B_given_not_A * (1 - P_A)\n",
    "\n",
    "# probability of having the disease given a positive test result\n",
    "P_A_given_B = P_B_given_A * P_A / P_B\n",
    "\n",
    "print(\"Probability of having the disease given a positive test result:\", P_A_given_B)\n"
   ]
  },
  {
   "cell_type": "markdown",
   "id": "a7021e2a",
   "metadata": {},
   "source": [
    "2 What is the probability of a union of two events and what is the equation for it?\n",
    "\n",
    " The probability of the union of two events A and B is the probability that either A or B (or both) occur. The formula for the probability of the union of two events is:\n",
    "\n",
    "P(A ∪ B) = P(A) + P(B) - P(A ∩ B)\n",
    "\n",
    "where P(A) represents the probability of event A occurring, P(B) represents the probability of event B occurring, and P(A ∩ B) represents the probability of both events A and B occurring simultaneously.\n",
    "\n",
    "In other words, the probability of the union of two events is the sum of the individual probabilities minus the probability of their intersection, since the intersection is counted twice when the individual probabilities are summed."
   ]
  },
  {
   "cell_type": "code",
   "execution_count": 2,
   "id": "d0e8406b",
   "metadata": {},
   "outputs": [
    {
     "name": "stdout",
     "output_type": "stream",
     "text": [
      "The probability of rolling either a 1 or a 2 is 0.3333333333333333\n"
     ]
    }
   ],
   "source": [
    "# Define the probability of rolling a 1 and a 2\n",
    "P_A = 1/6\n",
    "P_B = 1/6\n",
    "P_A_and_B = 0\n",
    "\n",
    "# Calculate the probability of rolling either a 1 or a 2\n",
    "P_A_or_B = P_A + P_B - P_A_and_B\n",
    "\n",
    "print(\"The probability of rolling either a 1 or a 2 is\", P_A_or_B)\n"
   ]
  },
  {
   "cell_type": "markdown",
   "id": "826132bf",
   "metadata": {},
   "source": [
    "3.What is joint probability? What is its formula?\n",
    "Joint probability refers to the probability of two or more events occurring together. It is the probability that Event A and Event B both occur, denoted as P(A ∩ B). The formula for joint probability is:\n",
    "\n",
    "P(A ∩ B) = P(B | A) * P(A) = P(A | B) * P(B)\n",
    "\n",
    "where P(A) and P(B) are the probabilities of Event A and Event B occurring independently, and P(B | A) and P(A | B) are the conditional probabilities of Event B given Event A and Event A given Event B, respectively.\n",
    "\n",
    "For example, consider a bag of marbles with 4 red marbles and 6 blue marbles. If you randomly select two marbles from the bag without replacement, what is the probability of getting a red marble on the first draw and a blue marble on the second draw?\n",
    "\n",
    "Let's define Event A as getting a red marble on the first draw and Event B as getting a blue marble on the second draw. The probability of getting a red marble on the first draw is 4/10 (since there are 4 red marbles out of 10 total marbles). If you get a red marble on the first draw, then there are 9 marbles left in the bag, with 6 of them being blue. Therefore, the probability of getting a blue marble on the second draw given that you got a red marble on the first draw is 6/9. Putting it all together, the joint probability of getting a red marble on the first draw and a blue marble on the second draw is:\n",
    "\n",
    "P(A ∩ B) = P(B | A) * P(A) = (6/9) * (4/10) = 0.2667\n",
    "\n",
    "So there is a 26.67% chance of getting a red marble on the first draw and a blue marble on the second draw.\n",
    "\n",
    "In Python, you can calculate joint probability using the formula P(A ∩ B) = P(B | A) * P(A), as follows:"
   ]
  },
  {
   "cell_type": "code",
   "execution_count": 3,
   "id": "63600197",
   "metadata": {},
   "outputs": [
    {
     "name": "stdout",
     "output_type": "stream",
     "text": [
      "Joint probability of getting a red marble on the first draw and a blue marble on the second draw: 0.26666666666666666\n"
     ]
    }
   ],
   "source": [
    "# Define probabilities\n",
    "P_A = 0.4 # probability of getting a red marble on the first draw\n",
    "P_B_given_A = 6/9 # probability of getting a blue marble on the second draw given that you got a red marble on the first draw\n",
    "\n",
    "# Calculate joint probability\n",
    "P_A_and_B = P_B_given_A * P_A\n",
    "\n",
    "print(\"Joint probability of getting a red marble on the first draw and a blue marble on the second draw:\", P_A_and_B)\n"
   ]
  },
  {
   "cell_type": "markdown",
   "id": "f43db375",
   "metadata": {},
   "source": [
    "4 What is the chain rule of probability?\n",
    "\n",
    " The chain rule of probability is a formula that allows us to calculate the probability of multiple events occurring together. It states that the joint probability of a set of events can be calculated as the product of the conditional probabilities of each event given the occurrence of the previous events. The formula for the chain rule is:\n",
    "\n",
    "P(A and B and C) = P(A) * P(B|A) * P(C|A and B)\n",
    "\n",
    "This formula can be extended to any number of events. The general formula for the joint probability of n events is:\n",
    "\n",
    "P(A1 and A2 and ... and An) = P(A1) * P(A2|A1) * P(A3|A1 and A2) * ... * P(An|A1 and A2 and ... and An-1)\n",
    "\n",
    "Example:\n",
    "\n",
    "Suppose we have a bag containing 3 red and 2 green balls. We randomly select 2 balls from the bag without replacement. What is the probability of selecting a red ball followed by a green ball?\n",
    "\n",
    "Solution:\n",
    "\n",
    "Let A be the event of selecting a red ball on the first draw and B be the event of selecting a green ball on the second draw. Then, we can use the chain rule to calculate the joint probability of A and B:\n",
    "\n",
    "P(A and B) = P(A) * P(B|A)\n",
    "= (3/5) * (2/4)\n",
    "= 0.3\n",
    "\n",
    "Therefore, the probability of selecting a red ball followed by a green ball is 0.3."
   ]
  },
  {
   "cell_type": "code",
   "execution_count": 5,
   "id": "65bb7810",
   "metadata": {},
   "outputs": [
    {
     "name": "stdout",
     "output_type": "stream",
     "text": [
      "0.3\n"
     ]
    }
   ],
   "source": [
    "# Define the bag of balls\n",
    "bag = ['red', 'red', 'red', 'green', 'green']\n",
    "\n",
    "# Calculate the probability of selecting a red ball followed by a green ball\n",
    "p_A = bag.count('red') / len(bag)\n",
    "p_B_given_A = bag.count('green') / (len(bag) - 1)\n",
    "\n",
    "# Calculate the joint probability\n",
    "p_A_and_B = p_A * p_B_given_A\n",
    "\n",
    "print(p_A_and_B)\n"
   ]
  },
  {
   "cell_type": "markdown",
   "id": "fac007af",
   "metadata": {},
   "source": [
    "5.What is conditional probability? What is its formula?\n",
    "Conditional probability is the probability of an event A given that another event B has occurred. It is denoted by P(A | B) and is calculated using the formula:\n",
    "P(A | B) = P(A ∩ B) / P(B)\n",
    "\n",
    "6.What are continuous random variables?\n",
    "Continuous random variables are variables that can take on any value within a given range or interval. Examples include height, weight, and temperature.\n",
    "\n",
    "7.What are Bernoulli distributions? What is the formula for it?\n",
    "The Bernoulli distribution is a probability distribution that describes a random variable that can take on one of two possible values, usually denoted as 0 or 1. The formula for the Bernoulli distribution is:\n",
    "P(X = 1) = p\n",
    "P(X = 0) = 1 - p\n",
    "\n",
    "8.What is binomial distribution? What is the formula?\n",
    "The binomial distribution is a probability distribution that describes the number of successes in a fixed number of independent trials, each with the same probability of success. The formula for the binomial distribution is:\n",
    "P(X = k) = (n choose k) * p^k * (1 - p)^(n - k)\n",
    "\n",
    "9.What is Poisson distribution? What is the formula?\n",
    "The Poisson distribution is a probability distribution that describes the number of occurrences of an event in a fixed interval of time or space, given the average rate of occurrence. The formula for the Poisson distribution is:\n",
    "P(X = k) = (lambda^k * e^(-lambda)) / k!\n",
    "\n",
    "10.Define covariance.\n",
    "Covariance is a measure of the joint variability of two random variables. It measures how much two variables vary together, and can be positive, negative, or zero. The formula for covariance is:\n",
    "cov(X, Y) = E[(X - E[X]) * (Y - E[Y])]\n",
    "\n",
    "11.Define correlation\n",
    "Correlation is a measure of the linear relationship between two variables. It measures the strength and direction of the relationship between two variables, and can range from -1 to 1. A correlation of 1 indicates a perfect positive relationship, a correlation of -1 indicates a perfect negative relationship, and a correlation of 0 indicates no linear relationship.\n",
    "\n",
    "\n",
    "\n",
    "\n",
    "\n"
   ]
  },
  {
   "cell_type": "code",
   "execution_count": null,
   "id": "0180f1f9",
   "metadata": {},
   "outputs": [],
   "source": []
  }
 ],
 "metadata": {
  "kernelspec": {
   "display_name": "Python 3 (ipykernel)",
   "language": "python",
   "name": "python3"
  },
  "language_info": {
   "codemirror_mode": {
    "name": "ipython",
    "version": 3
   },
   "file_extension": ".py",
   "mimetype": "text/x-python",
   "name": "python",
   "nbconvert_exporter": "python",
   "pygments_lexer": "ipython3",
   "version": "3.9.7"
  }
 },
 "nbformat": 4,
 "nbformat_minor": 5
}
